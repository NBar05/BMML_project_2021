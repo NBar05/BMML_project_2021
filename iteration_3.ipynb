{
 "cells": [
  {
   "cell_type": "code",
   "execution_count": 1,
   "id": "21913a60",
   "metadata": {
    "cellId": "dfqjhac6kpxis7erwok18"
   },
   "outputs": [
    {
     "name": "stdout",
     "output_type": "stream",
     "text": [
      "\u001b[33mWARNING: You are using pip version 21.0.1; however, version 21.3.1 is available.\n",
      "You should consider upgrading via the '/usr/local/bin/python3 -m pip install --upgrade pip' command.\u001b[0m\n",
      "\u001b[33mWARNING: You are using pip version 21.0.1; however, version 21.3.1 is available.\n",
      "You should consider upgrading via the '/usr/local/bin/python3 -m pip install --upgrade pip' command.\u001b[0m\n"
     ]
    }
   ],
   "source": [
    "%pip install -q torch --upgrade\n",
    "%pip install -q foolbox"
   ]
  },
  {
   "cell_type": "code",
   "execution_count": 2,
   "id": "353794ba",
   "metadata": {
    "cellId": "045kspcrzbjxdb40jkcn124"
   },
   "outputs": [],
   "source": [
    "import os\n",
    "import time\n",
    "import copy\n",
    "import random\n",
    "\n",
    "import numpy as np\n",
    "\n",
    "import torch\n",
    "import torch.nn.functional as F\n",
    "\n",
    "from torch import nn\n",
    "from torch import linalg\n",
    "from torch.optim import SGD, Optimizer\n",
    "from torch.utils.data import DataLoader\n",
    "from torch.optim.lr_scheduler import StepLR\n",
    "\n",
    "from torchvision import transforms, datasets, models\n",
    "\n",
    "import foolbox as fb\n",
    "\n",
    "import matplotlib.pyplot as plt\n",
    "\n",
    "from utils_ods_attack import ods_attack\n",
    "from utils_general import train, test, short_test\n",
    "from utils_attacks import whitebox_attack"
   ]
  },
  {
   "cell_type": "code",
   "execution_count": 3,
   "id": "298f8edb",
   "metadata": {
    "cellId": "9e9l36kp6kcez3njnaa2eo"
   },
   "outputs": [],
   "source": [
    "# reproducibility issues\n",
    "random.seed(0)\n",
    "np.random.seed(0)\n",
    "torch.manual_seed(0)\n",
    "torch.cuda.manual_seed(0)\n",
    "torch.backends.cudnn.deterministic = True"
   ]
  },
  {
   "cell_type": "code",
   "execution_count": 4,
   "id": "725576e3",
   "metadata": {
    "cellId": "2o51vdyu2bguwq0ib1gwm"
   },
   "outputs": [
    {
     "name": "stdout",
     "output_type": "stream",
     "text": [
      "Files already downloaded and verified\n",
      "Files already downloaded and verified\n",
      "torch.Size([3, 32, 32]) 50000 10000\n"
     ]
    }
   ],
   "source": [
    "dataset_cifar_train = datasets.CIFAR100(\n",
    "    root=\"./\",\n",
    "    train=True,\n",
    "    download=True,\n",
    "    transform=transforms.ToTensor()\n",
    ")\n",
    "dataset_cifar_valid_test = datasets.CIFAR100(\n",
    "    root=\"./\",\n",
    "    train=False,\n",
    "    download=True,\n",
    "    transform=transforms.ToTensor()\n",
    ")\n",
    "print(dataset_cifar_train[1][0].size(), len(dataset_cifar_train), len(dataset_cifar_valid_test))\n",
    "\n",
    "dataset_cifar_valid, dataset_cifar_test = torch.utils.data.random_split(dataset_cifar_valid_test, [5000, 5000], \n",
    "                                                                        generator=torch.Generator().manual_seed(42))\n",
    "\n",
    "data_loader_cifar_train = DataLoader(dataset_cifar_train, batch_size=128, shuffle=True)\n",
    "data_loader_cifar_valid = DataLoader(dataset_cifar_valid, batch_size=128, shuffle=False)\n",
    "data_loader_cifar_test = DataLoader(dataset_cifar_test, batch_size=128, shuffle=False)"
   ]
  },
  {
   "cell_type": "code",
   "execution_count": 5,
   "id": "63be7d62",
   "metadata": {
    "cellId": "rizg7g0imxnmfyl3xu6n9"
   },
   "outputs": [],
   "source": [
    "class OurResNetModel(nn.Module):\n",
    "    \"\"\"\n",
    "    Small class to initialize ResNet\n",
    "    \n",
    "    \"\"\"\n",
    "    def __init__(self, pretrained_bool, num_of_classes):\n",
    "        super().__init__()\n",
    "        \n",
    "        self.model_resnet = models.resnet34(pretrained=pretrained_bool) # 18 34 50 101 152\n",
    "        self.model_resnet.fc = nn.Linear(self.model_resnet.fc.in_features, num_of_classes, bias=False)\n",
    "\n",
    "    def forward(self, x):\n",
    "        return self.model_resnet(x)"
   ]
  },
  {
   "cell_type": "code",
   "execution_count": 6,
   "id": "ec8367bd",
   "metadata": {
    "cellId": "i7xs6yepnl3la74idfyao"
   },
   "outputs": [],
   "source": [
    "#!g1.1\n",
    "# optimzer and scheduler params\n",
    "learning_rate_, weight_decay_ = 0.01, 0.001\n",
    "step_size_, gamma_ = 2, 0.7\n",
    "\n",
    "# level of noise, and ODS params\n",
    "noise_sd_, nu_, num_of_steps_ = 0.1, 0.1, 1\n",
    "\n",
    "# dataloader and parameters for attacks\n",
    "data_loader_cifar_test_ = DataLoader(dataset_cifar_test, batch_size=5000, shuffle=False)\n",
    "epsilons_ = [0.0, 0.001, 0.01, 0.03, 0.05, 0.1, 0.3, 0.5, 1.0]"
   ]
  },
  {
   "cell_type": "code",
   "execution_count": 7,
   "id": "8e6d5f5b",
   "metadata": {
    "cellId": "tn4xvfuh0e2e7qq7vva19"
   },
   "outputs": [
    {
     "name": "stderr",
     "output_type": "stream",
     "text": [
      "Downloading: \"https://download.pytorch.org/models/resnet34-333f7ec4.pth\" to /tmp/xdg_cache/torch/hub/checkpoints/resnet34-333f7ec4.pth\n"
     ]
    },
    {
     "data": {
      "application/vnd.jupyter.widget-view+json": {
       "model_id": "85b6653a8ab14b8b97de4c9b04209e0a",
       "version_major": 2,
       "version_minor": 0
      },
      "text/plain": [
       "HBox(children=(HTML(value=''), FloatProgress(value=0.0, max=87306240.0), HTML(value='')))"
      ]
     },
     "metadata": {},
     "output_type": "display_data"
    },
    {
     "name": "stdout",
     "output_type": "stream",
     "text": [
      "\n",
      "Epoch 1\n",
      "\n",
      "Train (after 150 batches): Current time: 0.016 (mean: 0.016) Current loss: 3.098 (mean: 4.039) Current accuracy: 0.305 (mean: 0.127) \n",
      "Train (after 300 batches): Current time: 0.016 (mean: 0.016) Current loss: 2.873 (mean: 3.461) Current accuracy: 0.250 (mean: 0.213) \n",
      "Validation (after 40 batches): Current time: 0.005 (mean: 0.007) Current loss: 1.749 (mean: 2.342) Current accuracy: 0.500 (mean: 0.373) \n",
      "\n",
      "Epoch 2\n",
      "\n",
      "Train (after 150 batches): Current time: 0.016 (mean: 0.016) Current loss: 2.056 (mean: 2.146) Current accuracy: 0.453 (mean: 0.432) \n",
      "Train (after 300 batches): Current time: 0.016 (mean: 0.016) Current loss: 2.069 (mean: 2.084) Current accuracy: 0.445 (mean: 0.444) \n",
      "Validation (after 40 batches): Current time: 0.005 (mean: 0.007) Current loss: 1.725 (mean: 2.015) Current accuracy: 0.500 (mean: 0.456) \n",
      "\n",
      "Epoch 3\n",
      "\n",
      "Train (after 150 batches): Current time: 0.015 (mean: 0.016) Current loss: 1.794 (mean: 1.635) Current accuracy: 0.500 (mean: 0.552) \n",
      "Train (after 300 batches): Current time: 0.016 (mean: 0.016) Current loss: 1.485 (mean: 1.609) Current accuracy: 0.648 (mean: 0.557) \n",
      "Validation (after 40 batches): Current time: 0.005 (mean: 0.007) Current loss: 1.683 (mean: 1.860) Current accuracy: 0.375 (mean: 0.486) \n",
      "\n",
      "Epoch 4\n",
      "\n",
      "Train (after 150 batches): Current time: 0.016 (mean: 0.016) Current loss: 1.484 (mean: 1.341) Current accuracy: 0.555 (mean: 0.625) \n",
      "Train (after 300 batches): Current time: 0.017 (mean: 0.016) Current loss: 1.512 (mean: 1.357) Current accuracy: 0.594 (mean: 0.620) \n",
      "Validation (after 40 batches): Current time: 0.005 (mean: 0.007) Current loss: 1.457 (mean: 1.815) Current accuracy: 0.375 (mean: 0.499) \n",
      "\n",
      "Epoch 5\n",
      "\n",
      "Train (after 150 batches): Current time: 0.016 (mean: 0.016) Current loss: 1.170 (mean: 1.105) Current accuracy: 0.688 (mean: 0.691) \n",
      "Train (after 300 batches): Current time: 0.016 (mean: 0.016) Current loss: 1.106 (mean: 1.119) Current accuracy: 0.672 (mean: 0.686) \n",
      "Validation (after 40 batches): Current time: 0.005 (mean: 0.007) Current loss: 1.430 (mean: 1.776) Current accuracy: 0.500 (mean: 0.518) \n",
      "\n",
      "Epoch 6\n",
      "\n",
      "Train (after 150 batches): Current time: 0.016 (mean: 0.016) Current loss: 0.986 (mean: 0.969) Current accuracy: 0.750 (mean: 0.730) \n",
      "Train (after 300 batches): Current time: 0.018 (mean: 0.016) Current loss: 1.058 (mean: 0.967) Current accuracy: 0.719 (mean: 0.729) \n",
      "Validation (after 40 batches): Current time: 0.005 (mean: 0.007) Current loss: 1.115 (mean: 1.785) Current accuracy: 0.500 (mean: 0.513) \n",
      "\n",
      "Early stopping\n",
      "\n"
     ]
    }
   ],
   "source": [
    "#!g1.1\n",
    "device = torch.device('cuda:0' if torch.cuda.is_available() else 'cpu')\n",
    "\n",
    "model = OurResNetModel(True, 100)\n",
    "model.to(device)\n",
    "\n",
    "criterion = nn.CrossEntropyLoss()\n",
    "optimizer = SGD(model.parameters(), lr=learning_rate_, momentum=0.0, weight_decay=weight_decay_)\n",
    "scheduler = StepLR(optimizer, step_size=step_size_, gamma=gamma_)\n",
    "\n",
    "valid_loss_, valid_acc_ = 0, 0\n",
    "for epoch in range(10):\n",
    "    print(f'Epoch {epoch + 1}\\n')\n",
    "    train_loss, train_acc = train(data_loader_cifar_train, model, criterion, optimizer, device=device,\n",
    "                                  augment=False, noise_sd=noise_sd_, attack=False, nu=nu_, num_of_steps=num_of_steps_) # ; print()\n",
    "    valid_loss, valid_acc = test(data_loader_cifar_valid, model, criterion, device=device,\n",
    "                                 augment=False, noise_sd=noise_sd_, attack=False, nu=nu_, num_of_steps=num_of_steps_); print()\n",
    "    scheduler.step()\n",
    "    \n",
    "    if valid_acc > valid_acc_ * 1.01:\n",
    "        valid_acc_ = valid_acc\n",
    "        torch.save({\n",
    "            'epoch': epoch + 1,\n",
    "            'state_dict': model.state_dict(),\n",
    "            'optimizer': optimizer.state_dict(),\n",
    "        }, os.path.join('checkpoint_baseline.pth.tar'))\n",
    "    else:\n",
    "        print(\"Early stopping\")\n",
    "        checkpoint = torch.load('checkpoint_baseline.pth.tar')\n",
    "        model.load_state_dict(checkpoint['state_dict'])\n",
    "        break\n",
    "\n",
    "model.to(torch.device('cpu')); print()"
   ]
  },
  {
   "cell_type": "code",
   "execution_count": 8,
   "id": "c04eed2b",
   "metadata": {
    "cellId": "d8fc1l9ghrtna1i781lx8"
   },
   "outputs": [
    {
     "name": "stdout",
     "output_type": "stream",
     "text": [
      "Accuracy on train set: 77.894%\n",
      "Accuracy on valid set: 51.84%\n",
      "Accuracy on test  set: 52.52%\n"
     ]
    }
   ],
   "source": [
    "#!g1.1\n",
    "device = torch.device('cuda:0' if torch.cuda.is_available() else 'cpu')\n",
    "\n",
    "print(f'Accuracy on train set: {short_test(data_loader_cifar_train, model, device=device)}%')\n",
    "print(f'Accuracy on valid set: {short_test(data_loader_cifar_valid, model, device=device)}%')\n",
    "print(f'Accuracy on test  set: {short_test(data_loader_cifar_test, model, device=device)}%')"
   ]
  },
  {
   "cell_type": "code",
   "execution_count": 9,
   "id": "00623caf",
   "metadata": {
    "cellId": "6j8lsd3r57hsni49ohqdwm"
   },
   "outputs": [
    {
     "name": "stdout",
     "output_type": "stream",
     "text": [
      "Clear accuracy on images without adversarial attack 0.5252000093460083\n",
      "Clear accuracy on images without adversarial attack 0.5252000093460083\n",
      "Clear accuracy on images without adversarial attack 0.5252000093460083\n",
      "Clear accuracy on images without adversarial attack 0.5252000093460083\n"
     ]
    }
   ],
   "source": [
    "#!g1.1\n",
    "device = torch.device('cuda:0' if torch.cuda.is_available() else 'cpu')\n",
    "\n",
    "baseline_CW = whitebox_attack(model, data_loader_cifar_test_, attack_name='CW', epsilons=epsilons_, \n",
    "                              plot=False, aug_type='baseline', device=device)\n",
    "baseline_PGD = whitebox_attack(model, data_loader_cifar_test_, attack_name='PGD', epsilons=epsilons_, \n",
    "                               plot=False, aug_type='baseline', device=device)\n",
    "baseline_LinfPGD = whitebox_attack(model, data_loader_cifar_test_, attack_name='LinfPGD', epsilons=epsilons_, \n",
    "                                   plot=False, aug_type='baseline', device=device)\n",
    "baseline_LinfFastGradientAttack = whitebox_attack(model, data_loader_cifar_test_, attack_name='LinfFastGradientAttack', epsilons=epsilons_, \n",
    "                                                  plot=False, aug_type='baseline', device=device)"
   ]
  },
  {
   "cell_type": "code",
   "execution_count": 10,
   "id": "6006e5e7",
   "metadata": {
    "cellId": "xqoc13fgbwd4428v51uyo"
   },
   "outputs": [],
   "source": [
    "#!g1.1\n",
    "del model, criterion, optimizer, scheduler"
   ]
  },
  {
   "cell_type": "code",
   "execution_count": 11,
   "id": "155705be",
   "metadata": {
    "cellId": "htqscikwsohn163lfwvf1a"
   },
   "outputs": [
    {
     "name": "stdout",
     "output_type": "stream",
     "text": [
      "Epoch 1\n",
      "\n",
      "Train (after 150 batches): Current time: 0.016 (mean: 0.016) Current loss: 3.442 (mean: 4.104) Current accuracy: 0.195 (mean: 0.110) \n",
      "Train (after 300 batches): Current time: 0.016 (mean: 0.016) Current loss: 2.747 (mean: 3.600) Current accuracy: 0.312 (mean: 0.183) \n",
      "\n",
      "Validation (after 40 batches): Current time: 0.005 (mean: 0.007) Current loss: 2.308 (mean: 2.626) Current accuracy: 0.375 (mean: 0.331) \n",
      "\n",
      "Epoch 2\n",
      "\n",
      "Train (after 150 batches): Current time: 0.016 (mean: 0.016) Current loss: 2.363 (mean: 2.470) Current accuracy: 0.336 (mean: 0.366) \n",
      "Train (after 300 batches): Current time: 0.016 (mean: 0.016) Current loss: 2.307 (mean: 2.397) Current accuracy: 0.391 (mean: 0.378) \n",
      "\n",
      "Validation (after 40 batches): Current time: 0.005 (mean: 0.007) Current loss: 2.156 (mean: 2.280) Current accuracy: 0.500 (mean: 0.395) \n",
      "\n",
      "Epoch 3\n",
      "\n",
      "Train (after 150 batches): Current time: 0.018 (mean: 0.017) Current loss: 1.907 (mean: 2.025) Current accuracy: 0.477 (mean: 0.461) \n",
      "Train (after 300 batches): Current time: 0.017 (mean: 0.018) Current loss: 1.920 (mean: 2.016) Current accuracy: 0.500 (mean: 0.462) \n",
      "\n",
      "Validation (after 40 batches): Current time: 0.005 (mean: 0.007) Current loss: 2.042 (mean: 2.093) Current accuracy: 0.375 (mean: 0.438) \n",
      "\n",
      "Epoch 4\n",
      "\n",
      "Train (after 150 batches): Current time: 0.016 (mean: 0.017) Current loss: 1.588 (mean: 1.818) Current accuracy: 0.562 (mean: 0.502) \n",
      "Train (after 300 batches): Current time: 0.017 (mean: 0.016) Current loss: 1.800 (mean: 1.821) Current accuracy: 0.555 (mean: 0.505) \n",
      "\n",
      "Validation (after 40 batches): Current time: 0.005 (mean: 0.007) Current loss: 1.756 (mean: 2.017) Current accuracy: 0.375 (mean: 0.466) \n",
      "\n",
      "Epoch 5\n",
      "\n",
      "Train (after 150 batches): Current time: 0.016 (mean: 0.016) Current loss: 1.826 (mean: 1.653) Current accuracy: 0.508 (mean: 0.548) \n",
      "Train (after 300 batches): Current time: 0.016 (mean: 0.016) Current loss: 1.458 (mean: 1.647) Current accuracy: 0.586 (mean: 0.550) \n",
      "\n",
      "Validation (after 40 batches): Current time: 0.005 (mean: 0.007) Current loss: 2.163 (mean: 1.981) Current accuracy: 0.375 (mean: 0.463) \n",
      "\n",
      "Early stopping\n",
      "\n"
     ]
    }
   ],
   "source": [
    "#!g1.1\n",
    "device = torch.device('cuda:0' if torch.cuda.is_available() else 'cpu')\n",
    "\n",
    "model = OurResNetModel(True, 100)\n",
    "model.to(device)\n",
    "\n",
    "criterion = nn.CrossEntropyLoss()\n",
    "optimizer = SGD(model.parameters(), lr=learning_rate_, momentum=0.0, weight_decay=weight_decay_)\n",
    "scheduler = StepLR(optimizer, step_size=step_size_, gamma=gamma_)\n",
    "\n",
    "valid_loss_, valid_acc_ = 0, 0\n",
    "for epoch in range(10):\n",
    "    print(f'Epoch {epoch + 1}\\n')\n",
    "    train_loss, train_acc = train(data_loader_cifar_train, model, criterion, optimizer, device=device,\n",
    "                                  augment=True, noise_sd=noise_sd_, attack=False, nu=nu_, num_of_steps=num_of_steps_); print()\n",
    "    valid_loss, valid_acc = test(data_loader_cifar_valid, model, criterion, device=device,\n",
    "                                 augment=True, noise_sd=noise_sd_, attack=False, nu=nu_, num_of_steps=num_of_steps_); print()\n",
    "    scheduler.step()\n",
    "    \n",
    "    if valid_acc > valid_acc_ * 1.01:\n",
    "        valid_acc_ = valid_acc\n",
    "        torch.save({\n",
    "            'epoch': epoch + 1,\n",
    "            'state_dict': model.state_dict(),\n",
    "            'optimizer': optimizer.state_dict(),\n",
    "        }, os.path.join('checkpoint_pixeldp.pth.tar'))\n",
    "    else:\n",
    "        print(\"Early stopping\")\n",
    "        checkpoint = torch.load('checkpoint_pixeldp.pth.tar')\n",
    "        model.load_state_dict(checkpoint['state_dict'])\n",
    "        break\n",
    "\n",
    "model.to(torch.device('cpu')); print()"
   ]
  },
  {
   "cell_type": "code",
   "execution_count": 12,
   "id": "e1367193",
   "metadata": {
    "cellId": "ruyo7etplgivgixl8tgrv"
   },
   "outputs": [
    {
     "name": "stdout",
     "output_type": "stream",
     "text": [
      "Accuracy on train set: 38.928%\n",
      "Accuracy on valid set: 33.8%\n",
      "Accuracy on test  set: 33.76%\n"
     ]
    }
   ],
   "source": [
    "#!g1.1\n",
    "device = torch.device('cuda:0' if torch.cuda.is_available() else 'cpu')\n",
    "\n",
    "print(f'Accuracy on train set: {short_test(data_loader_cifar_train, model, device=device)}%')\n",
    "print(f'Accuracy on valid set: {short_test(data_loader_cifar_valid, model, device=device)}%')\n",
    "print(f'Accuracy on test  set: {short_test(data_loader_cifar_test, model, device=device)}%')"
   ]
  },
  {
   "cell_type": "code",
   "execution_count": 13,
   "id": "7ef5073b",
   "metadata": {
    "cellId": "gd5qnj2q5xgoyf6ohjqq8g"
   },
   "outputs": [
    {
     "name": "stdout",
     "output_type": "stream",
     "text": [
      "Clear accuracy on images without adversarial attack 0.3375999927520752\n",
      "Clear accuracy on images without adversarial attack 0.3375999927520752\n",
      "Clear accuracy on images without adversarial attack 0.3375999927520752\n",
      "Clear accuracy on images without adversarial attack 0.3375999927520752\n"
     ]
    }
   ],
   "source": [
    "#!g1.1\n",
    "device = torch.device('cuda:0' if torch.cuda.is_available() else 'cpu')\n",
    "\n",
    "pixeldp_CW = whitebox_attack(model, data_loader_cifar_test_, attack_name='CW', epsilons=epsilons_, \n",
    "                             plot=False, aug_type='pixeldp', device=device)\n",
    "pixeldp_PGD = whitebox_attack(model, data_loader_cifar_test_, attack_name='PGD', epsilons=epsilons_, \n",
    "                              plot=False, aug_type='pixeldp', device=device)\n",
    "pixeldp_LinfPGD = whitebox_attack(model, data_loader_cifar_test_, attack_name='LinfPGD', epsilons=epsilons_, \n",
    "                                  plot=False, aug_type='pixeldp', device=device)\n",
    "pixeldp_LinfFastGradientAttack = whitebox_attack(model, data_loader_cifar_test_, attack_name='LinfFastGradientAttack', epsilons=epsilons_, \n",
    "                                                 plot=False, aug_type='pixeldp', device=device)"
   ]
  },
  {
   "cell_type": "code",
   "execution_count": 14,
   "id": "33adf176",
   "metadata": {
    "cellId": "azw91d1hcq87f98gnjnbhr"
   },
   "outputs": [],
   "source": [
    "#!g1.1\n",
    "del model, criterion, optimizer, scheduler"
   ]
  },
  {
   "cell_type": "code",
   "execution_count": 15,
   "id": "92d8f25a",
   "metadata": {
    "cellId": "th5f5mxh5yp8qcbocdf5"
   },
   "outputs": [
    {
     "name": "stdout",
     "output_type": "stream",
     "text": [
      "Epoch 1\n",
      "\n",
      "Train (after 150 batches): Current time: 0.250 (mean: 0.243) Current loss: 3.213 (mean: 4.020) Current accuracy: 0.250 (mean: 0.121) \n",
      "Train (after 300 batches): Current time: 0.246 (mean: 0.245) Current loss: 2.774 (mean: 3.457) Current accuracy: 0.336 (mean: 0.206) \n",
      "\n",
      "Validation (after 40 batches): Current time: 0.243 (mean: 0.239) Current loss: 2.093 (mean: 2.406) Current accuracy: 0.375 (mean: 0.376) \n",
      "\n",
      "Epoch 2\n",
      "\n",
      "Train (after 150 batches): Current time: 0.248 (mean: 0.246) Current loss: 2.012 (mean: 2.191) Current accuracy: 0.414 (mean: 0.421) \n",
      "Train (after 300 batches): Current time: 0.242 (mean: 0.247) Current loss: 2.044 (mean: 2.136) Current accuracy: 0.461 (mean: 0.434) \n",
      "\n",
      "Validation (after 40 batches): Current time: 0.225 (mean: 0.238) Current loss: 1.543 (mean: 2.038) Current accuracy: 0.375 (mean: 0.453) \n",
      "\n",
      "Epoch 3\n",
      "\n",
      "Train (after 150 batches): Current time: 0.246 (mean: 0.248) Current loss: 1.616 (mean: 1.739) Current accuracy: 0.539 (mean: 0.529) \n",
      "Train (after 300 batches): Current time: 0.248 (mean: 0.247) Current loss: 1.641 (mean: 1.723) Current accuracy: 0.547 (mean: 0.532) \n",
      "\n",
      "Validation (after 40 batches): Current time: 0.231 (mean: 0.244) Current loss: 1.364 (mean: 1.890) Current accuracy: 0.500 (mean: 0.487) \n",
      "\n",
      "Epoch 4\n",
      "\n",
      "Train (after 150 batches): Current time: 0.240 (mean: 0.248) Current loss: 1.563 (mean: 1.486) Current accuracy: 0.547 (mean: 0.588) \n",
      "Train (after 300 batches): Current time: 0.247 (mean: 0.246) Current loss: 1.463 (mean: 1.495) Current accuracy: 0.641 (mean: 0.583) \n",
      "\n",
      "Validation (after 40 batches): Current time: 0.229 (mean: 0.242) Current loss: 1.867 (mean: 1.853) Current accuracy: 0.500 (mean: 0.506) \n",
      "\n",
      "Epoch 5\n",
      "\n",
      "Train (after 150 batches): Current time: 0.243 (mean: 0.246) Current loss: 1.400 (mean: 1.283) Current accuracy: 0.625 (mean: 0.636) \n",
      "Train (after 300 batches): Current time: 0.242 (mean: 0.246) Current loss: 1.279 (mean: 1.283) Current accuracy: 0.609 (mean: 0.637) \n",
      "\n",
      "Validation (after 40 batches): Current time: 0.229 (mean: 0.242) Current loss: 1.347 (mean: 1.792) Current accuracy: 0.625 (mean: 0.515) \n",
      "\n",
      "Epoch 6\n",
      "\n",
      "Train (after 150 batches): Current time: 0.252 (mean: 0.247) Current loss: 1.129 (mean: 1.140) Current accuracy: 0.711 (mean: 0.681) \n",
      "Train (after 300 batches): Current time: 0.251 (mean: 0.248) Current loss: 1.247 (mean: 1.154) Current accuracy: 0.680 (mean: 0.676) \n",
      "\n",
      "Validation (after 40 batches): Current time: 0.232 (mean: 0.243) Current loss: 1.207 (mean: 1.766) Current accuracy: 0.625 (mean: 0.523) \n",
      "\n",
      "Epoch 7\n",
      "\n",
      "Train (after 150 batches): Current time: 0.246 (mean: 0.247) Current loss: 0.960 (mean: 1.016) Current accuracy: 0.719 (mean: 0.717) \n",
      "Train (after 300 batches): Current time: 0.250 (mean: 0.247) Current loss: 1.021 (mean: 1.017) Current accuracy: 0.727 (mean: 0.715) \n",
      "\n",
      "Validation (after 40 batches): Current time: 0.227 (mean: 0.241) Current loss: 0.988 (mean: 1.763) Current accuracy: 0.625 (mean: 0.527) \n",
      "\n",
      "Early stopping\n",
      "\n"
     ]
    }
   ],
   "source": [
    "#!g1.1\n",
    "device = torch.device('cuda:0' if torch.cuda.is_available() else 'cpu')\n",
    "\n",
    "model = OurResNetModel(True, 100)\n",
    "model.to(device)\n",
    "\n",
    "criterion = nn.CrossEntropyLoss()\n",
    "optimizer = SGD(model.parameters(), lr=learning_rate_, momentum=0.0, weight_decay=weight_decay_)\n",
    "scheduler = StepLR(optimizer, step_size=step_size_, gamma=gamma_)\n",
    "\n",
    "valid_loss_, valid_acc_ = 0, 0\n",
    "for epoch in range(10):\n",
    "    print(f'Epoch {epoch + 1}\\n')\n",
    "    train_loss, train_acc = train(data_loader_cifar_train, model, criterion, optimizer, device=device,\n",
    "                                  augment=True, noise_sd=noise_sd_, attack=True, nu=nu_, num_of_steps=num_of_steps_); print()\n",
    "    valid_loss, valid_acc = test(data_loader_cifar_valid, model, criterion, device=device,\n",
    "                                 augment=True, noise_sd=noise_sd_, attack=True, nu=nu_, num_of_steps=num_of_steps_); print()\n",
    "    scheduler.step()\n",
    "    \n",
    "    if valid_acc > valid_acc_ * 1.01:\n",
    "        valid_acc_ = valid_acc\n",
    "        torch.save({\n",
    "            'epoch': epoch + 1,\n",
    "            'state_dict': model.state_dict(),\n",
    "            'optimizer': optimizer.state_dict(),\n",
    "        }, os.path.join('checkpoint_ods.pth.tar'))\n",
    "    else:\n",
    "        print(\"Early stopping\")\n",
    "        checkpoint = torch.load('checkpoint_ods.pth.tar')\n",
    "        model.load_state_dict(checkpoint['state_dict'])\n",
    "        break\n",
    "\n",
    "model.to(torch.device('cpu')); print()"
   ]
  },
  {
   "cell_type": "code",
   "execution_count": 16,
   "id": "f14763cd",
   "metadata": {
    "cellId": "gnt8c20rf9w71mk1qlnhl7"
   },
   "outputs": [
    {
     "name": "stdout",
     "output_type": "stream",
     "text": [
      "Accuracy on train set: 78.162%\n",
      "Accuracy on valid set: 53.42%\n",
      "Accuracy on test  set: 53.92%\n"
     ]
    }
   ],
   "source": [
    "#!g1.1\n",
    "device = torch.device('cuda:0' if torch.cuda.is_available() else 'cpu')\n",
    "\n",
    "print(f'Accuracy on train set: {short_test(data_loader_cifar_train, model, device=device)}%')\n",
    "print(f'Accuracy on valid set: {short_test(data_loader_cifar_valid, model, device=device)}%')\n",
    "print(f'Accuracy on test  set: {short_test(data_loader_cifar_test, model, device=device)}%')"
   ]
  },
  {
   "cell_type": "code",
   "execution_count": 17,
   "id": "9a952ea2",
   "metadata": {
    "cellId": "cipt1mpkphq26d7ebv7b53"
   },
   "outputs": [
    {
     "name": "stdout",
     "output_type": "stream",
     "text": [
      "Clear accuracy on images without adversarial attack 0.5392000079154968\n",
      "Clear accuracy on images without adversarial attack 0.5392000079154968\n",
      "Clear accuracy on images without adversarial attack 0.5392000079154968\n",
      "Clear accuracy on images without adversarial attack 0.5392000079154968\n"
     ]
    }
   ],
   "source": [
    "#!g1.1\n",
    "device = torch.device('cuda:0' if torch.cuda.is_available() else 'cpu')\n",
    "\n",
    "ods_CW = whitebox_attack(model, data_loader_cifar_test_, attack_name='CW', epsilons=epsilons_, \n",
    "                         plot=False, aug_type='ODS', device=device)\n",
    "ods_PGD = whitebox_attack(model, data_loader_cifar_test_, attack_name='PGD', epsilons=epsilons_, \n",
    "                          plot=False, aug_type='ODS', device=device)\n",
    "ods_LinfPGD = whitebox_attack(model, data_loader_cifar_test_, attack_name='LinfPGD', epsilons=epsilons_, \n",
    "                              plot=False, aug_type='ODS', device=device)\n",
    "ods_LinfFastGradientAttack = whitebox_attack(model, data_loader_cifar_test_, attack_name='LinfFastGradientAttack', epsilons=epsilons_, \n",
    "                                             plot=False, aug_type='ODS', device=device)"
   ]
  },
  {
   "cell_type": "code",
   "execution_count": 18,
   "id": "e690337e",
   "metadata": {
    "cellId": "nyokkyq38x71j0a360atxd"
   },
   "outputs": [],
   "source": [
    "#!g1.1\n",
    "del model, criterion, optimizer, scheduler"
   ]
  },
  {
   "cell_type": "code",
   "execution_count": 24,
   "id": "c982ee4d",
   "metadata": {
    "cellId": "bopts7swhvcek2zyt20njt"
   },
   "outputs": [
    {
     "data": {
      "image/png": "[encoded data removed]",
      "text/plain": [
       "<Figure size 1152x576 with 4 Axes>"
      ]
     },
     "metadata": {
      "needs_background": "light"
     },
     "output_type": "display_data"
    }
   ],
   "source": [
    "fig, ax = plt.subplots(2, 2, figsize=(16, 8))\n",
    "\n",
    "ax[0, 0].plot(epsilons_, baseline_CW, label='baseline')\n",
    "ax[0, 0].plot(epsilons_, pixeldp_CW, label='pixeldp')\n",
    "ax[0, 0].plot(epsilons_, ods_CW, label='ODS')\n",
    "\n",
    "# ax[0, 0].set_yscale('log')\n",
    "ax[0, 0].set_xlim(0., 0.8)\n",
    "ax[0, 0].legend()\n",
    "ax[0, 0].set_title('CW')\n",
    "\n",
    "ax[1, 0].plot(epsilons_, baseline_PGD, label='baseline')\n",
    "ax[1, 0].plot(epsilons_, pixeldp_PGD, label='pixeldp')\n",
    "ax[1, 0].plot(epsilons_, ods_PGD, label='ODS')\n",
    "\n",
    "# ax[1, 0].set_yscale('log')\n",
    "ax[1, 0].set_xlim(0., 0.1)\n",
    "ax[1, 0].legend()\n",
    "ax[1, 0].set_title('PGD')\n",
    "\n",
    "ax[0, 1].plot(epsilons_, baseline_LinfPGD, label='baseline')\n",
    "ax[0, 1].plot(epsilons_, pixeldp_LinfPGD, label='pixeldp')\n",
    "ax[0, 1].plot(epsilons_, ods_LinfPGD, label='ODS')\n",
    "\n",
    "# ax[0, 1].set_yscale('log')\n",
    "ax[0, 1].set_xlim(0., 0.1)\n",
    "ax[0, 1].legend()\n",
    "ax[0, 1].set_title('LinfPGD')\n",
    "\n",
    "ax[1, 1].plot(epsilons_, baseline_LinfFastGradientAttack, label='baseline')\n",
    "ax[1, 1].plot(epsilons_, pixeldp_LinfFastGradientAttack, label='pixeldp')\n",
    "ax[1, 1].plot(epsilons_, ods_LinfFastGradientAttack, label='ODS')\n",
    "\n",
    "# ax[1, 1].set_yscale('log')\n",
    "ax[1, 1].set_xlim(0., 0.1)\n",
    "ax[1, 1].legend()\n",
    "ax[1, 1].set_title('LinfFastGradientAttack')\n",
    "\n",
    "plt.show()"
   ]
  },
  {
   "cell_type": "code",
   "execution_count": null,
   "id": "7ee8db62",
   "metadata": {
    "cellId": "704f3940za6l7t5omfr79o"
   },
   "outputs": [],
   "source": []
  }
 ],
 "metadata": {
  "kernelspec": {
   "display_name": "Python 3 (ipykernel)",
   "language": "python",
   "name": "python3"
  },
  "language_info": {
   "codemirror_mode": {
    "name": "ipython",
    "version": 3
   },
   "file_extension": ".py",
   "mimetype": "text/x-python",
   "name": "python",
   "nbconvert_exporter": "python",
   "pygments_lexer": "ipython3",
   "version": "3.8.1"
  },
  "notebookId": "a6c85795-bd5c-40a1-aefb-3e7f443b8c55",
  "notebookPath": "iteration_3.ipynb"
 },
 "nbformat": 4,
 "nbformat_minor": 5
}
